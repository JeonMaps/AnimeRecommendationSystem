{
 "cells": [
  {
   "cell_type": "code",
   "execution_count": 2,
   "id": "b2340a2c",
   "metadata": {},
   "outputs": [
    {
     "data": {
      "text/plain": [
       "['anime_model.pkl']"
      ]
     },
     "execution_count": 2,
     "metadata": {},
     "output_type": "execute_result"
    }
   ],
   "source": [
    "import pandas as pd\n",
    "from surprise import SVD, Dataset, Reader\n",
    "from surprise.model_selection import train_test_split\n",
    "import joblib\n",
    "\n",
    "# Load ratings data\n",
    "ratings = pd.read_csv('rating.csv')\n",
    "\n",
    "# Filter out users who haven't rated many animes to reduce noise\n",
    "ratings_filtered = ratings.groupby('user_id').filter(lambda x: len(x) >= 10)\n",
    "\n",
    "# The Reader class is used to parse a file containing ratings\n",
    "reader = Reader(rating_scale=(1, 10))\n",
    "\n",
    "# The columns must correspond to user id, item id and ratings (in that order)\n",
    "data = Dataset.load_from_df(ratings_filtered[['user_id', 'anime_id', 'rating']], reader)\n",
    "\n",
    "# Split data into training and test set\n",
    "trainset, testset = train_test_split(data, test_size=.25)\n",
    "\n",
    "# Use the SVD algorithm.\n",
    "algo = SVD(n_epochs=10)\n",
    "\n",
    "# Train the algorithm on the trainset\n",
    "algo.fit(trainset)\n",
    "\n",
    "# Save the model\n",
    "joblib.dump(algo, 'anime_model.pkl')\n"
   ]
  },
  {
   "cell_type": "code",
   "execution_count": 10,
   "id": "806dfc85",
   "metadata": {
    "scrolled": false
   },
   "outputs": [
    {
     "name": "stdout",
     "output_type": "stream",
     "text": [
      "[820, 28977, 918, 11061, 5420, 5114, 9253, 32281, 4181, 9969]\n",
      "Liked genres: {'Sports', 'Romance', 'Slice of Life', 'Shounen', 'School', 'Drama', 'Comedy'}\n",
      "Anime ID 820 genres: ['Drama', 'Military', 'Sci-Fi', 'Space']\n",
      "Anime ID 28977 genres: ['Action', 'Comedy', 'Historical', 'Parody', 'Samurai', 'Sci-Fi', 'Shounen']\n",
      "Anime ID 918 genres: ['Action', 'Comedy', 'Historical', 'Parody', 'Samurai', 'Sci-Fi', 'Shounen']\n",
      "Anime ID 11061 genres: ['Action', 'Adventure', 'Shounen', 'Super Power']\n",
      "Anime ID 5420 genres: ['Drama', 'Fantasy']\n",
      "Anime ID 5114 genres: ['Action', 'Adventure', 'Drama', 'Fantasy', 'Magic', 'Military', 'Shounen']\n",
      "Anime ID 9253 genres: ['Sci-Fi', 'Thriller']\n",
      "Anime ID 32281 genres: ['Drama', 'Romance', 'School', 'Supernatural']\n",
      "Anime ID 4181 genres: ['Drama', 'Fantasy', 'Romance', 'Slice of Life', 'Supernatural']\n",
      "Anime ID 9969 genres: ['Action', 'Comedy', 'Historical', 'Parody', 'Samurai', 'Sci-Fi', 'Shounen']\n",
      "[820, 28977, 918, 11061, 5420, 5114, 32281, 4181, 9969]\n",
      "['Kimi no Na wa.', 'Fullmetal Alchemist: Brotherhood', 'Gintama°', 'Gintama&#039;', 'Hunter x Hunter (2011)', 'Ginga Eiyuu Densetsu', 'Clannad: After Story', 'Gintama', 'Kemono no Souja Erin']\n"
     ]
    }
   ],
   "source": [
    "import joblib\n",
    "# Load your trained model\n",
    "model = joblib.load('anime_model.pkl')\n",
    "\n",
    "# Load your anime data\n",
    "anime = pd.read_csv('anime.csv')\n",
    "\n",
    "def recommend_animes(model, liked_anime_ids, n_recommendations):\n",
    "    # Create a pseudo-user who likes the specified animes\n",
    "    pseudo_user_id = 'pseudo_user'\n",
    "\n",
    "    # Get a list of all anime IDs\n",
    "    all_anime_ids = anime['anime_id'].unique()\n",
    "\n",
    "    # Predict ratings for all animes that the pseudo-user hasn't seen yet\n",
    "    predictions = [(anime_id, model.predict(pseudo_user_id, anime_id).est) for anime_id in all_anime_ids if anime_id not in liked_anime_ids]\n",
    "\n",
    "    # Sort by predicted rating\n",
    "    predictions.sort(key=lambda x: x[1], reverse=True)\n",
    "\n",
    "    # Get the top n_recommendations\n",
    "    top_n = [anime_id for anime_id, _ in predictions[:n_recommendations]]\n",
    "\n",
    "    return top_n\n",
    "\n",
    "def filter_by_genre(recommended_anime_ids, liked_anime_ids):\n",
    "    # Get the genres of the liked animes\n",
    "    liked_genres = set()\n",
    "    for genres in anime.loc[anime['anime_id'].isin(liked_anime_ids), 'genre']:\n",
    "        liked_genres.update(genres.split(', '))\n",
    "    print(f\"Liked genres: {liked_genres}\")\n",
    "\n",
    "    # Filter the recommended animes based on these genres\n",
    "    filtered_anime_ids = []\n",
    "    for id in recommended_anime_ids:\n",
    "        anime_genres = anime.loc[anime['anime_id'] == id, 'genre'].item().split(', ')\n",
    "        print(f\"Anime ID {id} genres: {anime_genres}\")\n",
    "        if any(genre in liked_genres for genre in anime_genres):\n",
    "            filtered_anime_ids.append(id)\n",
    "    \n",
    "    return filtered_anime_ids\n",
    "\n",
    "\n",
    "\n",
    "# Create a dictionary to map anime names to IDs\n",
    "anime_dict = pd.Series(anime.anime_id.values,index=anime.name).to_dict()\n",
    "\n",
    "# Create a list of anime names\n",
    "anime_list = list(anime.name.values)\n",
    "\n",
    "# Create dropdown selectors for the user to choose their favorite animes\n",
    "selected_anime_1 = \"Cross Game\"\n",
    "selected_anime_2 = \"Bakuman. 2nd Season\"\n",
    "selected_anime_3 = \"Nichijou\"\n",
    "\n",
    "    # Map from anime names to IDs\n",
    "anime_ids = [anime_dict[selected_anime_1], anime_dict[selected_anime_2], anime_dict[selected_anime_3]]\n",
    "    \n",
    "    # Generate recommendations\n",
    "recommended_anime_ids = recommend_animes(model, anime_ids, n_recommendations=10)\n",
    "print(recommended_anime_ids)\n",
    "recommended_anime_ids = filter_by_genre(recommended_anime_ids, anime_ids)\n",
    "print(recommended_anime_ids)\n",
    "    # Map from anime IDs back to names\n",
    "recommended_anime_names = anime[anime['anime_id'].isin(recommended_anime_ids)]['name'].tolist()\n",
    "\n",
    "    \n",
    "    # Display the recommended animes\n",
    "print(recommended_anime_names)\n"
   ]
  },
  {
   "cell_type": "code",
   "execution_count": null,
   "id": "fb471178",
   "metadata": {},
   "outputs": [],
   "source": []
  },
  {
   "cell_type": "code",
   "execution_count": null,
   "id": "d3688c7c",
   "metadata": {},
   "outputs": [],
   "source": []
  }
 ],
 "metadata": {
  "kernelspec": {
   "display_name": "Python 3 (ipykernel)",
   "language": "python",
   "name": "python3"
  },
  "language_info": {
   "codemirror_mode": {
    "name": "ipython",
    "version": 3
   },
   "file_extension": ".py",
   "mimetype": "text/x-python",
   "name": "python",
   "nbconvert_exporter": "python",
   "pygments_lexer": "ipython3",
   "version": "3.10.11"
  }
 },
 "nbformat": 4,
 "nbformat_minor": 5
}
